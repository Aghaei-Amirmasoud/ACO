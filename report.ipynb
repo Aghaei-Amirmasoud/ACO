{
 "cells": [
  {
   "cell_type": "markdown",
   "metadata": {
    "collapsed": true,
    "pycharm": {
     "name": "#%% md\n"
    }
   },
   "source": [
    "import libraries"
   ]
  },
  {
   "cell_type": "code",
   "execution_count": 1,
   "outputs": [],
   "source": [
    "import numpy as np\n",
    "from numpy.random import choice as np_choice\n",
    "\n"
   ],
   "metadata": {
    "collapsed": false,
    "pycharm": {
     "name": "#%%\n"
    }
   }
  },
  {
   "cell_type": "markdown",
   "source": [
    "ant colony class"
   ],
   "metadata": {
    "collapsed": false,
    "pycharm": {
     "name": "#%% md\n"
    }
   }
  },
  {
   "cell_type": "code",
   "execution_count": 2,
   "outputs": [],
   "source": [
    "class AntColony(object):\n",
    "\n",
    "    def __init__(self, costs, nAnts, nBest, nGeneration, decay, alpha=1, beta=1):\n",
    "        \"\"\"\n",
    "        Args: costs (2D numpy.array): Square matrix of distances.\n",
    "        nAnts (int): Number of ants running per iteration\n",
    "        nBest (int): Number of best ants who deposit pheromone\n",
    "        nGeneration (int): Number of iterations\n",
    "        decay (float): Rate it which pheromone decays. The pheromone value is multiplied by decay, so 0.95 will lead to\n",
    "        decay, 0.5 to much faster decay.\n",
    "        alpha (int or float): exponent on pheromone, higher alpha gives pheromone more weight. Default=1\n",
    "        beta (int or float): exponent on distance, higher beta give distance more weight. Default=1\n",
    "        Example: antColony = AntColony(assignment matrix, 100, 20, 2000, 0.95, alpha=1, beta=2)\n",
    "        \"\"\"\n",
    "        self.distances = costs\n",
    "        self.pheromone = np.ones(self.distances.shape) / len(costs)\n",
    "        self.allInd = range(len(costs))\n",
    "        self.nAnts = nAnts\n",
    "        self.nBest = nBest\n",
    "        self.nGeneration = nGeneration\n",
    "        self.decay = decay\n",
    "        self.alpha = alpha\n",
    "        self.beta = beta\n",
    "\n",
    "    def run(self):\n",
    "        global leastCost\n",
    "        leastCost = None\n",
    "        allTimeLeastCost = (\"placeholder\", np.inf)\n",
    "        for element in range(self.nGeneration):\n",
    "            allPermutation = self.generatePermutations()\n",
    "            self.spreadPheromone(allPermutation, self.nBest)\n",
    "            leastCost = min(allPermutation, key=lambda x: x[1])\n",
    "            print(\"iteration \", element, \": Cost =\", leastCost[-1])\n",
    "            if leastCost[1] < allTimeLeastCost[1]:\n",
    "                allTimeLeastCost = leastCost\n",
    "            self.pheromone *= self.decay\n",
    "        return allTimeLeastCost\n",
    "\n",
    "    def generatePermutations(self):\n",
    "        allPermutations = []\n",
    "        for element in range(self.nAnts):\n",
    "            per = self.makeChoice(0)\n",
    "            allPermutations.append((per, self.calculateCost(per)))\n",
    "        return allPermutations\n",
    "\n",
    "    def makeChoice(self, start):\n",
    "        permutation = []\n",
    "        visited = set()\n",
    "        visited.add(start)\n",
    "        prev = start\n",
    "        for element in range(len(self.distances) - 1):\n",
    "            move = self.nextMove(self.pheromone[prev], self.distances[prev], visited)\n",
    "            permutation.append((prev, move))\n",
    "            prev += 1\n",
    "            visited.add(move)\n",
    "        permutation.append((prev, start))\n",
    "        return permutation\n",
    "\n",
    "    def nextMove(self, pheromone, dist, visited):\n",
    "        pheromone = np.copy(pheromone)\n",
    "        pheromone[list(visited)] = 0\n",
    "\n",
    "        row = pheromone ** self.alpha * ((1.0 / dist) ** self.beta)\n",
    "\n",
    "        norm_row = row / row.sum()\n",
    "        move = np_choice(self.allInd, 1, p=norm_row)[0]\n",
    "        return move\n",
    "\n",
    "    def spreadPheromone(self, allPermutation, nBest):\n",
    "        sortedPermutations = sorted(allPermutation, key=lambda x: x[1])\n",
    "        for per, dist in sortedPermutations[:nBest]:\n",
    "            for move in per:\n",
    "                self.pheromone[move] += 1.0 / self.distances[move]\n",
    "\n",
    "    def calculateCost(self, permutation):\n",
    "        totalCost = 0\n",
    "        for element in permutation:\n",
    "            totalCost += self.distances[element]\n",
    "        return totalCost\n"
   ],
   "metadata": {
    "collapsed": false,
    "pycharm": {
     "name": "#%%\n"
    }
   }
  },
  {
   "cell_type": "markdown",
   "source": [
    "algorithm examination\n",
    "\n"
   ],
   "metadata": {
    "collapsed": false
   }
  },
  {
   "cell_type": "code",
   "source": [
    "with open(\"job1.txt\") as textFile:\n",
    "    matrix = [line.split() for line in textFile]\n",
    "\n",
    "for i in range(len(matrix)):\n",
    "    for j in range(len(matrix[i])):\n",
    "        matrix[i][j] = int(matrix[i][j])\n",
    "\n",
    "distances = np.array(matrix)\n",
    "\n",
    "antColony = AntColony(distances, nAnts=50, nBest=5,\n",
    "                      nGeneration=10, decay=0.25,\n",
    "                      alpha=1, beta=2)\n",
    "leastCost = antColony.run()\n",
    "print(\"best assignment: {}\".format(leastCost))"
   ],
   "metadata": {
    "collapsed": false,
    "pycharm": {
     "name": "#%%\n"
    }
   },
   "execution_count": 3,
   "outputs": [
    {
     "name": "stdout",
     "output_type": "stream",
     "text": [
      "iteration  0 : Cost = 26\n",
      "iteration  1 : Cost = 26\n",
      "iteration  2 : Cost = 26\n",
      "iteration  3 : Cost = 26\n",
      "iteration  4 : Cost = 26\n",
      "iteration  5 : Cost = 26\n",
      "iteration  6 : Cost = 26\n",
      "iteration  7 : Cost = 26\n",
      "iteration  8 : Cost = 26\n",
      "iteration  9 : Cost = 26\n",
      "best assignment: ([(0, 3), (1, 1), (2, 2), (3, 0)], 26)\n"
     ]
    }
   ]
  },
  {
   "cell_type": "markdown",
   "source": [
    "function parameters:\n",
    "\n",
    "        costs: Square matrix of distances.\n",
    "        nAnts (int): Number of ants running per iteration\n",
    "        nBest (int): Number of best ants who deposit pheromone\n",
    "        nGeneration (int): Number of iterations\n",
    "        decay (float): Rate it which pheromone decays. The pheromone value is multiplied by decay, so 0.95 will lead to\n",
    "        decay, 0.5 to much faster decay.\n",
    "        alpha (int or float): exponent on pheromone, higher alpha gives pheromone more weight. Default=1\n",
    "        beta (int or float): exponent on distance, higher beta give distance more weight. Default=1"
   ],
   "metadata": {
    "collapsed": false,
    "pycharm": {
     "name": "#%% md\n"
    }
   }
  },
  {
   "cell_type": "markdown",
   "source": [
    "first testcase"
   ],
   "metadata": {
    "collapsed": false,
    "pycharm": {
     "name": "#%% md\n"
    }
   }
  },
  {
   "cell_type": "code",
   "execution_count": 6,
   "outputs": [
    {
     "name": "stdout",
     "output_type": "stream",
     "text": [
      "iteration  0 : Cost = 370\n",
      "iteration  1 : Cost = 357\n",
      "iteration  2 : Cost = 367\n",
      "iteration  3 : Cost = 342\n",
      "iteration  4 : Cost = 334\n",
      "iteration  5 : Cost = 324\n",
      "iteration  6 : Cost = 310\n",
      "iteration  7 : Cost = 319\n",
      "iteration  8 : Cost = 307\n",
      "iteration  9 : Cost = 295\n",
      "iteration  10 : Cost = 305\n",
      "iteration  11 : Cost = 305\n",
      "iteration  12 : Cost = 305\n",
      "iteration  13 : Cost = 305\n",
      "iteration  14 : Cost = 305\n",
      "iteration  15 : Cost = 305\n",
      "iteration  16 : Cost = 305\n",
      "iteration  17 : Cost = 305\n",
      "iteration  18 : Cost = 305\n",
      "iteration  19 : Cost = 305\n",
      "iteration  20 : Cost = 305\n",
      "iteration  21 : Cost = 305\n",
      "iteration  22 : Cost = 305\n",
      "iteration  23 : Cost = 305\n",
      "iteration  24 : Cost = 305\n",
      "iteration  25 : Cost = 305\n",
      "iteration  26 : Cost = 305\n",
      "iteration  27 : Cost = 305\n",
      "iteration  28 : Cost = 305\n",
      "iteration  29 : Cost = 305\n",
      "iteration  30 : Cost = 305\n",
      "iteration  31 : Cost = 305\n",
      "iteration  32 : Cost = 305\n",
      "iteration  33 : Cost = 305\n",
      "iteration  34 : Cost = 305\n",
      "iteration  35 : Cost = 305\n",
      "iteration  36 : Cost = 305\n",
      "iteration  37 : Cost = 305\n",
      "iteration  38 : Cost = 305\n",
      "iteration  39 : Cost = 305\n",
      "iteration  40 : Cost = 305\n",
      "iteration  41 : Cost = 305\n",
      "iteration  42 : Cost = 305\n",
      "iteration  43 : Cost = 305\n",
      "iteration  44 : Cost = 305\n",
      "iteration  45 : Cost = 305\n",
      "iteration  46 : Cost = 305\n",
      "iteration  47 : Cost = 305\n",
      "iteration  48 : Cost = 305\n",
      "iteration  49 : Cost = 305\n",
      "iteration  50 : Cost = 305\n",
      "iteration  51 : Cost = 305\n",
      "iteration  52 : Cost = 305\n",
      "iteration  53 : Cost = 305\n",
      "iteration  54 : Cost = 305\n",
      "iteration  55 : Cost = 305\n",
      "iteration  56 : Cost = 305\n",
      "iteration  57 : Cost = 305\n",
      "iteration  58 : Cost = 305\n",
      "iteration  59 : Cost = 305\n",
      "iteration  60 : Cost = 305\n",
      "iteration  61 : Cost = 305\n",
      "iteration  62 : Cost = 305\n",
      "iteration  63 : Cost = 305\n",
      "iteration  64 : Cost = 305\n",
      "iteration  65 : Cost = 305\n",
      "iteration  66 : Cost = 305\n",
      "iteration  67 : Cost = 305\n",
      "iteration  68 : Cost = 305\n",
      "iteration  69 : Cost = 305\n",
      "iteration  70 : Cost = 305\n",
      "iteration  71 : Cost = 305\n",
      "iteration  72 : Cost = 305\n",
      "iteration  73 : Cost = 305\n",
      "iteration  74 : Cost = 305\n",
      "iteration  75 : Cost = 305\n",
      "iteration  76 : Cost = 305\n",
      "iteration  77 : Cost = 305\n",
      "iteration  78 : Cost = 305\n",
      "iteration  79 : Cost = 305\n",
      "iteration  80 : Cost = 305\n",
      "iteration  81 : Cost = 305\n",
      "iteration  82 : Cost = 305\n",
      "iteration  83 : Cost = 305\n",
      "iteration  84 : Cost = 305\n",
      "iteration  85 : Cost = 305\n",
      "iteration  86 : Cost = 305\n",
      "iteration  87 : Cost = 305\n",
      "iteration  88 : Cost = 305\n",
      "iteration  89 : Cost = 305\n",
      "iteration  90 : Cost = 305\n",
      "iteration  91 : Cost = 305\n",
      "iteration  92 : Cost = 305\n",
      "iteration  93 : Cost = 305\n",
      "iteration  94 : Cost = 305\n",
      "iteration  95 : Cost = 305\n",
      "iteration  96 : Cost = 305\n",
      "iteration  97 : Cost = 305\n",
      "iteration  98 : Cost = 305\n",
      "iteration  99 : Cost = 305\n",
      "best assignment: ([(0, 90), (1, 85), (2, 61), (3, 74), (4, 28), (5, 44), (6, 60), (7, 56), (8, 22), (9, 43), (10, 21), (11, 30), (12, 87), (13, 97), (14, 86), (15, 84), (16, 10), (17, 23), (18, 35), (19, 26), (20, 5), (21, 72), (22, 89), (23, 24), (24, 57), (25, 19), (26, 67), (27, 88), (28, 92), (29, 46), (30, 9), (31, 77), (32, 17), (33, 98), (34, 75), (35, 76), (36, 42), (37, 29), (38, 13), (39, 71), (40, 79), (41, 18), (42, 32), (43, 69), (44, 91), (45, 3), (46, 27), (47, 99), (48, 95), (49, 25), (50, 82), (51, 45), (52, 36), (53, 54), (54, 58), (55, 50), (56, 41), (57, 37), (58, 38), (59, 52), (60, 53), (61, 14), (62, 66), (63, 59), (64, 93), (65, 65), (66, 12), (67, 62), (68, 55), (69, 7), (70, 63), (71, 94), (72, 70), (73, 96), (74, 39), (75, 4), (76, 83), (77, 68), (78, 33), (79, 20), (80, 51), (81, 80), (82, 16), (83, 48), (84, 40), (85, 8), (86, 47), (87, 49), (88, 31), (89, 73), (90, 81), (91, 6), (92, 11), (93, 1), (94, 78), (95, 2), (96, 34), (97, 64), (98, 15), (99, 0)], 295)\n"
     ]
    }
   ],
   "source": [
    "with open(\"job2.txt\") as textFile:\n",
    "    matrix = [line.split() for line in textFile]\n",
    "\n",
    "for i in range(len(matrix)):\n",
    "    for j in range(len(matrix[i])):\n",
    "        matrix[i][j] = int(matrix[i][j])\n",
    "\n",
    "distances = np.array(matrix)\n",
    "\n",
    "antColony = AntColony(distances, nAnts=100, nBest=12,\n",
    "                      nGeneration=100, decay=0.2,\n",
    "                      alpha=0.85, beta=100)\n",
    "leastCost = antColony.run()\n",
    "print(\"best assignment: {}\".format(leastCost))"
   ],
   "metadata": {
    "collapsed": false,
    "pycharm": {
     "name": "#%%\n"
    }
   }
  },
  {
   "cell_type": "markdown",
   "source": [
    "    the code stop producing better answer after 10 iteration, but we have our desired answer 295 < 350\n",
    "    now let us go to run function on 2nd testcase"
   ],
   "metadata": {
    "collapsed": false,
    "pycharm": {
     "name": "#%% md\n"
    }
   }
  },
  {
   "cell_type": "code",
   "execution_count": 9,
   "outputs": [
    {
     "name": "stdout",
     "output_type": "stream",
     "text": [
      "iteration  0 : Cost = 978\n",
      "iteration  1 : Cost = 946\n",
      "iteration  2 : Cost = 938\n",
      "iteration  3 : Cost = 887\n",
      "iteration  4 : Cost = 938\n",
      "iteration  5 : Cost = 884\n",
      "iteration  6 : Cost = 906\n",
      "iteration  7 : Cost = 897\n",
      "iteration  8 : Cost = 894\n",
      "iteration  9 : Cost = 894\n",
      "iteration  10 : Cost = 887\n",
      "iteration  11 : Cost = 877\n",
      "iteration  12 : Cost = 820\n",
      "iteration  13 : Cost = 857\n",
      "iteration  14 : Cost = 841\n",
      "iteration  15 : Cost = 857\n",
      "iteration  16 : Cost = 834\n",
      "iteration  17 : Cost = 845\n",
      "iteration  18 : Cost = 830\n",
      "iteration  19 : Cost = 830\n",
      "iteration  20 : Cost = 827\n",
      "iteration  21 : Cost = 809\n",
      "iteration  22 : Cost = 806\n",
      "iteration  23 : Cost = 822\n",
      "iteration  24 : Cost = 809\n",
      "iteration  25 : Cost = 808\n",
      "iteration  26 : Cost = 808\n",
      "iteration  27 : Cost = 804\n",
      "iteration  28 : Cost = 804\n",
      "iteration  29 : Cost = 804\n",
      "best assignment: ([(0, 8), (1, 27), (2, 93), (3, 78), (4, 14), (5, 104), (6, 129), (7, 15), (8, 56), (9, 40), (10, 110), (11, 128), (12, 172), (13, 195), (14, 115), (15, 66), (16, 83), (17, 11), (18, 173), (19, 42), (20, 121), (21, 45), (22, 140), (23, 123), (24, 41), (25, 149), (26, 125), (27, 3), (28, 94), (29, 87), (30, 147), (31, 16), (32, 175), (33, 23), (34, 179), (35, 161), (36, 30), (37, 142), (38, 146), (39, 170), (40, 159), (41, 32), (42, 183), (43, 196), (44, 34), (45, 58), (46, 18), (47, 160), (48, 92), (49, 68), (50, 72), (51, 132), (52, 112), (53, 90), (54, 33), (55, 39), (56, 13), (57, 187), (58, 51), (59, 20), (60, 109), (61, 95), (62, 98), (63, 52), (64, 62), (65, 165), (66, 131), (67, 55), (68, 114), (69, 44), (70, 103), (71, 73), (72, 64), (73, 29), (74, 194), (75, 82), (76, 86), (77, 31), (78, 75), (79, 4), (80, 101), (81, 46), (82, 108), (83, 168), (84, 50), (85, 190), (86, 85), (87, 28), (88, 65), (89, 107), (90, 12), (91, 198), (92, 154), (93, 181), (94, 117), (95, 53), (96, 166), (97, 178), (98, 80), (99, 189), (100, 102), (101, 25), (102, 122), (103, 35), (104, 136), (105, 148), (106, 182), (107, 63), (108, 138), (109, 176), (110, 139), (111, 113), (112, 84), (113, 24), (114, 120), (115, 88), (116, 171), (117, 133), (118, 156), (119, 81), (120, 47), (121, 191), (122, 37), (123, 192), (124, 126), (125, 10), (126, 137), (127, 48), (128, 193), (129, 174), (130, 71), (131, 143), (132, 67), (133, 2), (134, 152), (135, 57), (136, 79), (137, 38), (138, 144), (139, 145), (140, 17), (141, 7), (142, 186), (143, 180), (144, 135), (145, 184), (146, 54), (147, 169), (148, 22), (149, 130), (150, 61), (151, 134), (152, 19), (153, 69), (154, 106), (155, 162), (156, 141), (157, 163), (158, 118), (159, 76), (160, 1), (161, 127), (162, 97), (163, 5), (164, 43), (165, 177), (166, 124), (167, 99), (168, 150), (169, 21), (170, 155), (171, 26), (172, 158), (173, 197), (174, 96), (175, 70), (176, 6), (177, 105), (178, 91), (179, 157), (180, 151), (181, 60), (182, 116), (183, 167), (184, 185), (185, 199), (186, 36), (187, 100), (188, 164), (189, 119), (190, 74), (191, 49), (192, 77), (193, 89), (194, 9), (195, 111), (196, 59), (197, 153), (198, 188), (199, 0)], 804)\n"
     ]
    }
   ],
   "source": [
    "with open(\"job3.txt\") as textFile:\n",
    "    matrix = [line.split() for line in textFile]\n",
    "\n",
    "for i in range(len(matrix)):\n",
    "    for j in range(len(matrix[i])):\n",
    "        matrix[i][j] = int(matrix[i][j])\n",
    "\n",
    "distances = np.array(matrix)\n",
    "\n",
    "antColony = AntColony(distances, nAnts=150, nBest=16,\n",
    "                      nGeneration=30, decay=0.2,\n",
    "                      alpha=0.85, beta=130)\n",
    "leastCost = antColony.run()\n",
    "print(\"best assignment: {}\".format(leastCost))"
   ],
   "metadata": {
    "collapsed": false,
    "pycharm": {
     "name": "#%%\n"
    }
   }
  },
  {
   "cell_type": "markdown",
   "source": [
    "    the code stop producing better answer after 28 iteration, unfortunately we couldn't reach to cost less than 750\n",
    "    now let us go to run function on 3rd testcase"
   ],
   "metadata": {
    "collapsed": false,
    "pycharm": {
     "name": "#%% md\n"
    }
   }
  },
  {
   "cell_type": "code",
   "execution_count": 15,
   "outputs": [
    {
     "name": "stdout",
     "output_type": "stream",
     "text": [
      "iteration  0 : Cost = 26107\n",
      "iteration  1 : Cost = 25718\n",
      "iteration  2 : Cost = 24006\n",
      "iteration  3 : Cost = 24703\n",
      "iteration  4 : Cost = 25862\n",
      "iteration  5 : Cost = 24677\n",
      "iteration  6 : Cost = 25314\n",
      "iteration  7 : Cost = 25476\n",
      "iteration  8 : Cost = 24628\n",
      "iteration  9 : Cost = 24007\n",
      "iteration  10 : Cost = 24036\n",
      "iteration  11 : Cost = 23173\n",
      "iteration  12 : Cost = 22979\n",
      "iteration  13 : Cost = 22791\n",
      "iteration  14 : Cost = 22935\n",
      "iteration  15 : Cost = 22791\n",
      "iteration  16 : Cost = 22791\n",
      "iteration  17 : Cost = 22791\n",
      "iteration  18 : Cost = 22791\n",
      "iteration  19 : Cost = 22791\n",
      "iteration  20 : Cost = 22791\n",
      "iteration  21 : Cost = 22791\n",
      "iteration  22 : Cost = 22791\n",
      "iteration  23 : Cost = 22791\n",
      "iteration  24 : Cost = 22791\n",
      "iteration  25 : Cost = 22791\n",
      "iteration  26 : Cost = 22791\n",
      "iteration  27 : Cost = 22791\n",
      "iteration  28 : Cost = 22791\n",
      "iteration  29 : Cost = 22791\n",
      "best assignment: ([(0, 95), (1, 762), (2, 619), (3, 169), (4, 460), (5, 349), (6, 979), (7, 909), (8, 490), (9, 102), (10, 899), (11, 195), (12, 343), (13, 525), (14, 288), (15, 424), (16, 414), (17, 89), (18, 348), (19, 175), (20, 673), (21, 459), (22, 408), (23, 879), (24, 892), (25, 744), (26, 523), (27, 369), (28, 418), (29, 199), (30, 173), (31, 528), (32, 515), (33, 822), (34, 717), (35, 51), (36, 403), (37, 157), (38, 674), (39, 118), (40, 45), (41, 466), (42, 296), (43, 859), (44, 637), (45, 699), (46, 513), (47, 812), (48, 56), (49, 105), (50, 72), (51, 88), (52, 724), (53, 63), (54, 740), (55, 400), (56, 200), (57, 291), (58, 754), (59, 696), (60, 562), (61, 527), (62, 813), (63, 193), (64, 850), (65, 357), (66, 829), (67, 505), (68, 358), (69, 279), (70, 249), (71, 273), (72, 904), (73, 563), (74, 811), (75, 602), (76, 68), (77, 592), (78, 805), (79, 179), (80, 751), (81, 880), (82, 106), (83, 454), (84, 535), (85, 163), (86, 325), (87, 997), (88, 222), (89, 201), (90, 836), (91, 764), (92, 492), (93, 40), (94, 379), (95, 753), (96, 185), (97, 851), (98, 436), (99, 276), (100, 372), (101, 302), (102, 923), (103, 702), (104, 50), (105, 171), (106, 451), (107, 725), (108, 627), (109, 390), (110, 609), (111, 796), (112, 570), (113, 871), (114, 767), (115, 569), (116, 265), (117, 930), (118, 598), (119, 142), (120, 547), (121, 57), (122, 579), (123, 978), (124, 591), (125, 734), (126, 94), (127, 87), (128, 861), (129, 693), (130, 905), (131, 641), (132, 795), (133, 853), (134, 91), (135, 23), (136, 920), (137, 493), (138, 191), (139, 269), (140, 600), (141, 154), (142, 976), (143, 900), (144, 950), (145, 471), (146, 867), (147, 608), (148, 518), (149, 128), (150, 870), (151, 146), (152, 73), (153, 345), (154, 825), (155, 462), (156, 21), (157, 726), (158, 692), (159, 413), (160, 504), (161, 202), (162, 681), (163, 239), (164, 397), (165, 947), (166, 176), (167, 395), (168, 625), (169, 959), (170, 640), (171, 760), (172, 670), (173, 933), (174, 496), (175, 534), (176, 830), (177, 218), (178, 280), (179, 745), (180, 733), (181, 98), (182, 770), (183, 376), (184, 958), (185, 571), (186, 385), (187, 122), (188, 337), (189, 435), (190, 551), (191, 712), (192, 426), (193, 622), (194, 595), (195, 543), (196, 668), (197, 596), (198, 516), (199, 938), (200, 18), (201, 586), (202, 669), (203, 123), (204, 621), (205, 444), (206, 353), (207, 423), (208, 232), (209, 178), (210, 278), (211, 769), (212, 54), (213, 601), (214, 650), (215, 158), (216, 331), (217, 227), (218, 778), (219, 70), (220, 470), (221, 304), (222, 46), (223, 632), (224, 8), (225, 440), (226, 150), (227, 99), (228, 718), (229, 488), (230, 510), (231, 797), (232, 305), (233, 568), (234, 236), (235, 48), (236, 100), (237, 782), (238, 798), (239, 737), (240, 500), (241, 362), (242, 758), (243, 328), (244, 781), (245, 943), (246, 946), (247, 732), (248, 524), (249, 742), (250, 651), (251, 225), (252, 62), (253, 499), (254, 956), (255, 240), (256, 205), (257, 903), (258, 707), (259, 954), (260, 324), (261, 114), (262, 421), (263, 416), (264, 541), (265, 384), (266, 439), (267, 605), (268, 316), (269, 881), (270, 272), (271, 838), (272, 26), (273, 883), (274, 237), (275, 953), (276, 935), (277, 259), (278, 101), (279, 233), (280, 973), (281, 705), (282, 723), (283, 494), (284, 292), (285, 661), (286, 393), (287, 229), (288, 253), (289, 82), (290, 759), (291, 915), (292, 12), (293, 738), (294, 868), (295, 130), (296, 780), (297, 498), (298, 270), (299, 131), (300, 587), (301, 550), (302, 533), (303, 604), (304, 410), (305, 986), (306, 936), (307, 177), (308, 750), (309, 708), (310, 556), (311, 908), (312, 703), (313, 676), (314, 6), (315, 538), (316, 365), (317, 634), (318, 309), (319, 217), (320, 321), (321, 501), (322, 590), (323, 790), (324, 35), (325, 482), (326, 555), (327, 814), (328, 845), (329, 319), (330, 364), (331, 368), (332, 721), (333, 487), (334, 735), (335, 282), (336, 135), (337, 588), (338, 479), (339, 678), (340, 433), (341, 807), (342, 715), (343, 334), (344, 606), (345, 204), (346, 713), (347, 998), (348, 862), (349, 437), (350, 188), (351, 138), (352, 107), (353, 599), (354, 842), (355, 27), (356, 854), (357, 427), (358, 615), (359, 573), (360, 890), (361, 855), (362, 477), (363, 19), (364, 995), (365, 793), (366, 187), (367, 918), (368, 835), (369, 996), (370, 788), (371, 329), (372, 428), (373, 307), (374, 928), (375, 36), (376, 537), (377, 951), (378, 323), (379, 731), (380, 277), (381, 2), (382, 140), (383, 617), (384, 159), (385, 817), (386, 115), (387, 34), (388, 226), (389, 108), (390, 257), (391, 167), (392, 789), (393, 117), (394, 75), (395, 927), (396, 344), (397, 31), (398, 33), (399, 522), (400, 507), (401, 434), (402, 506), (403, 448), (404, 132), (405, 889), (406, 109), (407, 407), (408, 149), (409, 960), (410, 168), (411, 897), (412, 129), (413, 184), (414, 653), (415, 438), (416, 398), (417, 429), (418, 965), (419, 124), (420, 39), (421, 66), (422, 183), (423, 215), (424, 858), (425, 722), (426, 565), (427, 757), (428, 895), (429, 356), (430, 152), (431, 924), (432, 206), (433, 594), (434, 820), (435, 247), (436, 583), (437, 116), (438, 43), (439, 103), (440, 896), (441, 402), (442, 298), (443, 875), (444, 730), (445, 78), (446, 244), (447, 775), (448, 145), (449, 467), (450, 787), (451, 463), (452, 286), (453, 994), (454, 256), (455, 646), (456, 399), (457, 941), (458, 207), (459, 929), (460, 340), (461, 893), (462, 264), (463, 832), (464, 141), (465, 777), (466, 172), (467, 648), (468, 151), (469, 826), (470, 564), (471, 198), (472, 557), (473, 776), (474, 784), (475, 251), (476, 77), (477, 809), (478, 301), (479, 355), (480, 458), (481, 697), (482, 902), (483, 981), (484, 455), (485, 526), (486, 234), (487, 857), (488, 85), (489, 330), (490, 242), (491, 912), (492, 821), (493, 810), (494, 17), (495, 539), (496, 22), (497, 503), (498, 274), (499, 644), (500, 383), (501, 341), (502, 160), (503, 197), (504, 585), (505, 652), (506, 497), (507, 945), (508, 799), (509, 974), (510, 468), (511, 84), (512, 553), (513, 90), (514, 260), (515, 517), (516, 446), (517, 763), (518, 143), (519, 741), (520, 898), (521, 791), (522, 969), (523, 61), (524, 824), (525, 283), (526, 773), (527, 211), (528, 29), (529, 42), (530, 58), (531, 654), (532, 542), (533, 509), (534, 255), (535, 406), (536, 774), (537, 662), (538, 250), (539, 939), (540, 16), (541, 885), (542, 576), (543, 694), (544, 203), (545, 161), (546, 882), (547, 675), (548, 394), (549, 695), (550, 520), (551, 474), (552, 289), (553, 803), (554, 254), (555, 575), (556, 577), (557, 990), (558, 25), (559, 878), (560, 367), (561, 41), (562, 74), (563, 174), (564, 975), (565, 391), (566, 405), (567, 561), (568, 597), (569, 209), (570, 214), (571, 800), (572, 55), (573, 710), (574, 580), (575, 266), (576, 9), (577, 230), (578, 739), (579, 374), (580, 843), (581, 831), (582, 480), (583, 153), (584, 293), (585, 729), (586, 83), (587, 635), (588, 982), (589, 952), (590, 420), (591, 656), (592, 863), (593, 874), (594, 464), (595, 649), (596, 262), (597, 677), (598, 688), (599, 610), (600, 691), (601, 559), (602, 792), (603, 352), (604, 360), (605, 104), (606, 165), (607, 983), (608, 891), (609, 381), (610, 125), (611, 683), (612, 966), (613, 491), (614, 386), (615, 636), (616, 475), (617, 977), (618, 338), (619, 984), (620, 486), (621, 833), (622, 121), (623, 806), (624, 317), (625, 359), (626, 819), (627, 942), (628, 442), (629, 208), (630, 241), (631, 275), (632, 659), (633, 647), (634, 852), (635, 968), (636, 134), (637, 626), (638, 412), (639, 554), (640, 120), (641, 417), (642, 306), (643, 720), (644, 86), (645, 672), (646, 844), (647, 581), (648, 664), (649, 194), (650, 65), (651, 876), (652, 658), (653, 633), (654, 453), (655, 531), (656, 549), (657, 346), (658, 766), (659, 170), (660, 228), (661, 312), (662, 148), (663, 611), (664, 28), (665, 180), (666, 955), (667, 290), (668, 189), (669, 687), (670, 660), (671, 136), (672, 245), (673, 704), (674, 980), (675, 59), (676, 578), (677, 841), (678, 192), (679, 164), (680, 884), (681, 139), (682, 628), (683, 396), (684, 665), (685, 629), (686, 749), (687, 638), (688, 299), (689, 452), (690, 552), (691, 252), (692, 481), (693, 419), (694, 469), (695, 783), (696, 485), (697, 711), (698, 514), (699, 156), (700, 671), (701, 181), (702, 212), (703, 10), (704, 483), (705, 377), (706, 624), (707, 957), (708, 432), (709, 926), (710, 378), (711, 315), (712, 655), (713, 133), (714, 113), (715, 860), (716, 37), (717, 4), (718, 949), (719, 911), (720, 765), (721, 263), (722, 700), (723, 743), (724, 989), (725, 530), (726, 620), (727, 614), (728, 502), (729, 756), (730, 389), (731, 327), (732, 508), (733, 110), (734, 991), (735, 603), (736, 987), (737, 686), (738, 540), (739, 219), (740, 827), (741, 869), (742, 71), (743, 7), (744, 894), (745, 558), (746, 906), (747, 963), (748, 545), (749, 666), (750, 988), (751, 529), (752, 961), (753, 147), (754, 456), (755, 388), (756, 630), (757, 297), (758, 748), (759, 639), (760, 848), (761, 261), (762, 567), (763, 13), (764, 970), (765, 80), (766, 772), (767, 126), (768, 964), (769, 828), (770, 190), (771, 472), (772, 347), (773, 839), (774, 689), (775, 682), (776, 450), (777, 719), (778, 14), (779, 155), (780, 921), (781, 285), (782, 901), (783, 258), (784, 985), (785, 932), (786, 47), (787, 771), (788, 457), (789, 872), (790, 612), (791, 326), (792, 582), (793, 97), (794, 607), (795, 461), (796, 354), (797, 271), (798, 449), (799, 281), (800, 11), (801, 182), (802, 532), (803, 589), (804, 801), (805, 544), (806, 243), (807, 333), (808, 52), (809, 917), (810, 736), (811, 144), (812, 993), (813, 755), (814, 913), (815, 631), (816, 657), (817, 60), (818, 816), (819, 314), (820, 313), (821, 761), (822, 79), (823, 24), (824, 210), (825, 808), (826, 495), (827, 186), (828, 925), (829, 425), (830, 846), (831, 478), (832, 15), (833, 521), (834, 224), (835, 96), (836, 284), (837, 363), (838, 794), (839, 613), (840, 422), (841, 937), (842, 308), (843, 849), (844, 560), (845, 999), (846, 919), (847, 701), (848, 238), (849, 430), (850, 786), (851, 873), (852, 216), (853, 49), (854, 127), (855, 847), (856, 484), (857, 616), (858, 593), (859, 690), (860, 779), (861, 709), (862, 81), (863, 922), (864, 322), (865, 137), (866, 213), (867, 584), (868, 336), (869, 716), (870, 642), (871, 235), (872, 714), (873, 546), (874, 380), (875, 914), (876, 931), (877, 220), (878, 572), (879, 64), (880, 20), (881, 667), (882, 680), (883, 32), (884, 166), (885, 93), (886, 318), (887, 5), (888, 303), (889, 38), (890, 361), (891, 548), (892, 415), (893, 30), (894, 512), (895, 944), (896, 335), (897, 392), (898, 679), (899, 618), (900, 375), (901, 409), (902, 728), (903, 112), (904, 623), (905, 971), (906, 834), (907, 196), (908, 465), (909, 684), (910, 431), (911, 1), (912, 888), (913, 443), (914, 441), (915, 119), (916, 948), (917, 447), (918, 332), (919, 536), (920, 476), (921, 815), (922, 877), (923, 473), (924, 310), (925, 320), (926, 268), (927, 351), (928, 727), (929, 574), (930, 864), (931, 837), (932, 92), (933, 267), (934, 401), (935, 916), (936, 802), (937, 370), (938, 823), (939, 311), (940, 342), (941, 300), (942, 53), (943, 566), (944, 111), (945, 387), (946, 371), (947, 907), (948, 366), (949, 785), (950, 221), (951, 350), (952, 685), (953, 804), (954, 3), (955, 698), (956, 162), (957, 840), (958, 511), (959, 76), (960, 940), (961, 992), (962, 887), (963, 67), (964, 962), (965, 645), (966, 382), (967, 404), (968, 967), (969, 752), (970, 231), (971, 339), (972, 373), (973, 44), (974, 934), (975, 519), (976, 972), (977, 856), (978, 886), (979, 706), (980, 248), (981, 663), (982, 294), (983, 643), (984, 489), (985, 287), (986, 865), (987, 445), (988, 223), (989, 246), (990, 746), (991, 295), (992, 69), (993, 747), (994, 768), (995, 910), (996, 411), (997, 818), (998, 866), (999, 0)], 22791)\n"
     ]
    }
   ],
   "source": [
    "with open(\"job4.txt\") as textFile:\n",
    "    matrix = [line.split() for line in textFile]\n",
    "\n",
    "for i in range(len(matrix)):\n",
    "    for j in range(len(matrix[i])):\n",
    "        matrix[i][j] = int(matrix[i][j])\n",
    "\n",
    "distances = np.array(matrix)\n",
    "\n",
    "antColony = AntColony(distances, nAnts=50, nBest=5,\n",
    "                      nGeneration=30, decay=0.2,\n",
    "                      alpha=0.85, beta=75)\n",
    "leastCost = antColony.run()\n",
    "print(\"best assignment: {}\".format(leastCost))"
   ],
   "metadata": {
    "collapsed": false,
    "pycharm": {
     "name": "#%%\n"
    }
   }
  },
  {
   "cell_type": "markdown",
   "source": [
    "    the code stop producing better answer after 15 iteration, unfortunately we couldn't reach to cost less than 22k\n",
    "    now let us go to run function on 4th testcase"
   ],
   "metadata": {
    "collapsed": false
   }
  },
  {
   "cell_type": "code",
   "execution_count": 20,
   "outputs": [
    {
     "name": "stdout",
     "output_type": "stream",
     "text": [
      "iteration  0 : Cost = 53355\n",
      "iteration  1 : Cost = 54932\n",
      "iteration  2 : Cost = 55232\n",
      "iteration  3 : Cost = 54451\n",
      "iteration  4 : Cost = 50536\n",
      "iteration  5 : Cost = 53985\n",
      "iteration  6 : Cost = 53008\n",
      "iteration  7 : Cost = 52147\n",
      "iteration  8 : Cost = 48035\n",
      "iteration  9 : Cost = 51273\n",
      "iteration  10 : Cost = 51273\n",
      "iteration  11 : Cost = 51273\n",
      "iteration  12 : Cost = 51273\n",
      "iteration  13 : Cost = 51273\n",
      "iteration  14 : Cost = 51273\n",
      "best assignment: ([(0,433), (1, 1191), (2, 1816), (3, 463), (4, 957), (5, 1597), (6, 287), (7, 1302), (8, 1261), (9, 513), (10, 1742),(11, 292), (12, 890), (13, 1335), (14, 1077), (15, 1703), (16, 1549), (17, 1586), (18, 120), (19, 769), (20, 204),(21, 492), (22, 1266), (23, 1855), (24, 1332), (25, 474), (26, 1815), (27, 1574), (28, 85),
      "(29, 1645), (30, 532),(31, 1944), (32, 540), (33, 932), (34, 575), (35, 1685), (36, 597), (37, 1852), (38, 1360),"
      "193), (1998, 1960), (1999, 0)], 48035)\n"
     ]
    }
   ],
   "source": [
    "with open(\"job5.txt\") as textFile:\n",
    "    matrix = [line.split() for line in textFile]\n",
    "\n",
    "for i in range(len(matrix)):\n",
    "    for j in range(len(matrix[i])):\n",
    "        matrix[i][j] = int(matrix[i][j])\n",
    "\n",
    "distances = np.array(matrix)\n",
    "\n",
    "antColony = AntColony(distances, nAnts=20, nBest=2,\n",
    "                      nGeneration=15, decay=0.15,\n",
    "                      alpha=0.85, beta=20)\n",
    "leastCost = antColony.run()\n",
    "print(\"best assignment: {}\".format(leastCost))"
   ],
   "metadata": {
    "collapsed": false,
    "pycharm": {
     "name": "#%%\n"
    }
   }
  },
  {
   "cell_type": "markdown",
   "source": [
    "    the code stop producing better answer after 10 iteration"
   ],
   "metadata": {
    "collapsed": false
   }
  }
 ],
 "metadata": {
  "kernelspec": {
   "display_name": "Python 3",
   "language": "python",
   "name": "python3"
  },
  "language_info": {
   "codemirror_mode": {
    "name": "ipython",
    "version": 2
   },
   "file_extension": ".py",
   "mimetype": "text/x-python",
   "name": "python",
   "nbconvert_exporter": "python",
   "pygments_lexer": "ipython2",
   "version": "2.7.6"
  }
 },
 "nbformat": 4,
 "nbformat_minor": 0
}
